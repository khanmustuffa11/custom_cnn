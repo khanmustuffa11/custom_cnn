{
 "cells": [
  {
   "cell_type": "markdown",
   "id": "3d6cf7b9",
   "metadata": {},
   "source": [
    "### @khan mustuffa Dated 13/05/2022"
   ]
  },
  {
   "cell_type": "code",
   "execution_count": 3,
   "id": "6ea0ce8b",
   "metadata": {},
   "outputs": [],
   "source": [
    "#load required Libraries\n",
    "import os\n",
    "import numpy as np\n",
    "import torch\n",
    "import glob\n",
    "import torch.nn as nn\n",
    "from torchvision.transforms import transforms\n",
    "from torch.utils.data import DataLoader\n",
    "from torch.optim import Adam\n",
    "from torch.autograd import Variable\n",
    "import torchvision\n",
    "import pathlib"
   ]
  },
  {
   "cell_type": "code",
   "execution_count": 7,
   "id": "357aba7a",
   "metadata": {},
   "outputs": [
    {
     "data": {
      "text/plain": [
       "device(type='cuda')"
      ]
     },
     "execution_count": 7,
     "metadata": {},
     "output_type": "execute_result"
    }
   ],
   "source": [
    "#checking for the device\n",
    "device = torch.device('cuda'if torch.cuda.is_available() else 'cpu')\n",
    "device"
   ]
  },
  {
   "cell_type": "code",
   "execution_count": 55,
   "id": "61005641",
   "metadata": {},
   "outputs": [],
   "source": [
    "#transforms\n",
    "transformer = transforms.Compose([\n",
    "    transforms.Resize((150,150)),\n",
    "    transforms.RandomHorizontalFlip(),\n",
    "    transforms.ToTensor(), #0-255 to 0-1 numpy to tensors\n",
    "    transforms.Normalize([0.5,0.5,0.5],#0-1 to [-1,1], fromula = (x-mean)/std\n",
    "                        [0.5,0.5,0.5])\n",
    "])\n"
   ]
  },
  {
   "cell_type": "code",
   "execution_count": 56,
   "id": "c82e429c",
   "metadata": {},
   "outputs": [],
   "source": [
    "#Data_Loaders\n",
    "#Paths to train and test folders\n",
    "train_path ='retina_lesion_/train'\n",
    "test_path  = 'retina_lesion_/test'\n",
    "\n",
    "train_loader = DataLoader(\n",
    "   torchvision.datasets.ImageFolder(train_path, transform = transformer),\n",
    "    batch_size = 32, shuffle = True\n",
    ")\n",
    "\n",
    "test_loader = DataLoader(\n",
    "    torchvision.datasets. ImageFolder(test_path, transform= transformer),\n",
    "    batch_size  =32, shuffle =True\n",
    ")"
   ]
  },
  {
   "cell_type": "code",
   "execution_count": 57,
   "id": "515cbf46",
   "metadata": {},
   "outputs": [
    {
     "data": {
      "text/plain": [
       "['class0', 'class1', 'class2', 'class3', 'class4']"
      ]
     },
     "execution_count": 57,
     "metadata": {},
     "output_type": "execute_result"
    }
   ],
   "source": [
    "#categories\n",
    "root = pathlib.Path(train_path)\n",
    "classes =sorted([j.name.split('/')[-1] for j in root.iterdir()])\n",
    "classes"
   ]
  },
  {
   "cell_type": "code",
   "execution_count": 58,
   "id": "60f666d7",
   "metadata": {},
   "outputs": [],
   "source": [
    "#Building Neural Network\n",
    "class ConvNet(nn.Module):\n",
    "    def __init__(self, num_classes = 5):\n",
    "        super(ConvNet, self).__init__()\n",
    "        \n",
    "        #input shape= (512, 3, 512, 512)\n",
    "        self.conv1 = nn.Conv2d(in_channels= 3, out_channels=12,kernel_size = 3, stride = 1, padding=1)\n",
    "        \n",
    "        #shape =(512, 12, 512, 512)\n",
    "        self.bn1 = nn.BatchNorm2d(num_features = 12)\n",
    "        self.relu1 = nn.ReLU()\n",
    "        #Reduce the image size be factor 2\n",
    "        #Shape= (256,12,75,75)\n",
    "        self.pool = nn.MaxPool2d(kernel_size = 2)\n",
    "        \n",
    "        self.Conv2  = nn.Conv2d(in_channels = 12, out_channels = 20, kernel_size = 3, stride =1, padding=1)\n",
    "        self.relu2 = nn.ReLU()\n",
    "        \n",
    "        self.Conv3  =nn.Conv2d(in_channels=20, out_channels=32, kernel_size=3, stride = 1, padding=1)\n",
    "        self.bn3 = nn.BatchNorm2d(num_features = 32)\n",
    "        self.relu3  =nn.ReLU()\n",
    "        \n",
    "        self.fc = nn.Linear(in_features =32*75*75, out_features = num_classes)\n",
    "\n",
    "    #feed forward\n",
    "    def forward(self,input):\n",
    "        output = self.conv1(input)\n",
    "        output = self.bn1(output)\n",
    "        output = self.relu1(output)\n",
    "\n",
    "        output= self.pool(output)\n",
    "\n",
    "        output= self.Conv2(output)\n",
    "        output= self.relu2(output)\n",
    "\n",
    "        output= self.Conv3(output)\n",
    "        output= self.bn3(output)\n",
    "        output= self.relu3(output)\n",
    "\n",
    "        output=output.view(-1, 32*75*75)\n",
    "        output=self.fc(output)\n",
    "\n",
    "        return output\n",
    "\n",
    "        "
   ]
  },
  {
   "cell_type": "code",
   "execution_count": 59,
   "id": "9a792a15",
   "metadata": {},
   "outputs": [],
   "source": [
    "model = ConvNet(num_classes=5).to(device)"
   ]
  },
  {
   "cell_type": "code",
   "execution_count": 60,
   "id": "8cf845a1",
   "metadata": {},
   "outputs": [],
   "source": [
    "#optimizer and loss function\n",
    "optimizer = Adam(model.parameters(), lr = 0.001, weight_decay=0.0001)\n",
    "loss_function= nn.CrossEntropyLoss()"
   ]
  },
  {
   "cell_type": "code",
   "execution_count": 64,
   "id": "2922c80f",
   "metadata": {},
   "outputs": [],
   "source": [
    "num_epochs =50"
   ]
  },
  {
   "cell_type": "code",
   "execution_count": 65,
   "id": "0fe00887",
   "metadata": {},
   "outputs": [
    {
     "name": "stdout",
     "output_type": "stream",
     "text": [
      "1373 158\n"
     ]
    }
   ],
   "source": [
    "#calculating the size of training and testing images\n",
    "train_count = len(glob.glob(train_path+'/**/*.jpg'))\n",
    "test_count  = len(glob.glob(test_path+'/**/*.jpg'))\n",
    "print(train_count, test_count)"
   ]
  },
  {
   "cell_type": "code",
   "execution_count": 66,
   "id": "282ab635",
   "metadata": {},
   "outputs": [
    {
     "name": "stdout",
     "output_type": "stream",
     "text": [
      "Epoch: 0 Train Loss: tensor(0.8535) Train Accuracy: 0.7042971595047341 Test Accuracy: 0.22784810126582278\n",
      "Epoch: 1 Train Loss: tensor(0.7635) Train Accuracy: 0.71959213401311 Test Accuracy: 0.5949367088607594\n",
      "Epoch: 2 Train Loss: tensor(0.5379) Train Accuracy: 0.8077203204661325 Test Accuracy: 0.45569620253164556\n",
      "Epoch: 3 Train Loss: tensor(0.3631) Train Accuracy: 0.8812818645302258 Test Accuracy: 0.5063291139240507\n",
      "Epoch: 4 Train Loss: tensor(0.4803) Train Accuracy: 0.831755280407866 Test Accuracy: 0.5949367088607594\n",
      "Epoch: 5 Train Loss: tensor(0.4838) Train Accuracy: 0.8259286234522942 Test Accuracy: 0.5632911392405063\n",
      "Epoch: 6 Train Loss: tensor(0.4097) Train Accuracy: 0.8557902403495994 Test Accuracy: 0.5379746835443038\n",
      "Epoch: 7 Train Loss: tensor(0.2470) Train Accuracy: 0.9184268026219956 Test Accuracy: 0.5\n",
      "Epoch: 8 Train Loss: tensor(0.1478) Train Accuracy: 0.9555717407137655 Test Accuracy: 0.5063291139240507\n",
      "Epoch: 9 Train Loss: tensor(0.1075) Train Accuracy: 0.9694100509832484 Test Accuracy: 0.4936708860759494\n",
      "Epoch: 10 Train Loss: tensor(0.0756) Train Accuracy: 0.9803350327749454 Test Accuracy: 0.5253164556962026\n",
      "Epoch: 11 Train Loss: tensor(0.0651) Train Accuracy: 0.9781500364166059 Test Accuracy: 0.5189873417721519\n",
      "Epoch: 12 Train Loss: tensor(0.0574) Train Accuracy: 0.9825200291332847 Test Accuracy: 0.569620253164557\n",
      "Epoch: 13 Train Loss: tensor(0.0596) Train Accuracy: 0.9832483612527313 Test Accuracy: 0.5886075949367089\n",
      "Epoch: 14 Train Loss: tensor(0.0923) Train Accuracy: 0.9679533867443554 Test Accuracy: 0.5886075949367089\n",
      "Epoch: 15 Train Loss: tensor(0.1230) Train Accuracy: 0.954843408594319 Test Accuracy: 0.5379746835443038\n",
      "Epoch: 16 Train Loss: tensor(0.2076) Train Accuracy: 0.9300801165331392 Test Accuracy: 0.5316455696202531\n",
      "Epoch: 17 Train Loss: tensor(0.1278) Train Accuracy: 0.9584850691915513 Test Accuracy: 0.5126582278481012\n",
      "Epoch: 18 Train Loss: tensor(0.0968) Train Accuracy: 0.9664967225054625 Test Accuracy: 0.569620253164557\n",
      "Epoch: 19 Train Loss: tensor(0.0740) Train Accuracy: 0.9759650400582666 Test Accuracy: 0.44936708860759494\n",
      "Epoch: 20 Train Loss: tensor(0.0458) Train Accuracy: 0.9825200291332847 Test Accuracy: 0.5316455696202531\n",
      "Epoch: 21 Train Loss: tensor(0.1569) Train Accuracy: 0.954843408594319 Test Accuracy: 0.4810126582278481\n",
      "Epoch: 22 Train Loss: tensor(0.1705) Train Accuracy: 0.9490167516387472 Test Accuracy: 0.46835443037974683\n",
      "Epoch: 23 Train Loss: tensor(0.0789) Train Accuracy: 0.9752367079388201 Test Accuracy: 0.569620253164557\n",
      "Epoch: 24 Train Loss: tensor(0.1189) Train Accuracy: 0.9555717407137655 Test Accuracy: 0.4177215189873418\n",
      "Epoch: 25 Train Loss: tensor(0.1028) Train Accuracy: 0.9664967225054625 Test Accuracy: 0.5063291139240507\n",
      "Epoch: 26 Train Loss: tensor(0.0744) Train Accuracy: 0.9737800436999272 Test Accuracy: 0.4810126582278481\n",
      "Epoch: 27 Train Loss: tensor(0.0308) Train Accuracy: 0.9919883466860888 Test Accuracy: 0.5\n",
      "Epoch: 28 Train Loss: tensor(0.0099) Train Accuracy: 0.9985433357611071 Test Accuracy: 0.5\n",
      "Epoch: 29 Train Loss: tensor(0.0102) Train Accuracy: 0.9978150036416606 Test Accuracy: 0.4936708860759494\n",
      "Epoch: 30 Train Loss: tensor(0.0062) Train Accuracy: 0.9985433357611071 Test Accuracy: 0.5\n",
      "Epoch: 31 Train Loss: tensor(0.0024) Train Accuracy: 0.9992716678805535 Test Accuracy: 0.46835443037974683\n",
      "Epoch: 32 Train Loss: tensor(0.0016) Train Accuracy: 1.0 Test Accuracy: 0.5063291139240507\n",
      "Epoch: 33 Train Loss: tensor(0.0012) Train Accuracy: 1.0 Test Accuracy: 0.4936708860759494\n",
      "Epoch: 34 Train Loss: tensor(0.0010) Train Accuracy: 1.0 Test Accuracy: 0.5189873417721519\n",
      "Epoch: 35 Train Loss: tensor(0.0010) Train Accuracy: 1.0 Test Accuracy: 0.4936708860759494\n",
      "Epoch: 36 Train Loss: tensor(0.0006) Train Accuracy: 1.0 Test Accuracy: 0.5063291139240507\n",
      "Epoch: 37 Train Loss: tensor(0.0004) Train Accuracy: 1.0 Test Accuracy: 0.5316455696202531\n",
      "Epoch: 38 Train Loss: tensor(0.0007) Train Accuracy: 1.0 Test Accuracy: 0.45569620253164556\n",
      "Epoch: 39 Train Loss: tensor(0.0005) Train Accuracy: 1.0 Test Accuracy: 0.5\n",
      "Epoch: 40 Train Loss: tensor(0.0005) Train Accuracy: 1.0 Test Accuracy: 0.4810126582278481\n",
      "Epoch: 41 Train Loss: tensor(0.0003) Train Accuracy: 1.0 Test Accuracy: 0.5\n",
      "Epoch: 42 Train Loss: tensor(0.0004) Train Accuracy: 1.0 Test Accuracy: 0.4810126582278481\n",
      "Epoch: 43 Train Loss: tensor(0.0003) Train Accuracy: 1.0 Test Accuracy: 0.5443037974683544\n",
      "Epoch: 44 Train Loss: tensor(0.0003) Train Accuracy: 1.0 Test Accuracy: 0.5316455696202531\n",
      "Epoch: 45 Train Loss: tensor(0.0003) Train Accuracy: 1.0 Test Accuracy: 0.5063291139240507\n",
      "Epoch: 46 Train Loss: tensor(0.0003) Train Accuracy: 1.0 Test Accuracy: 0.5063291139240507\n",
      "Epoch: 47 Train Loss: tensor(0.0002) Train Accuracy: 1.0 Test Accuracy: 0.5126582278481012\n",
      "Epoch: 48 Train Loss: tensor(0.0004) Train Accuracy: 1.0 Test Accuracy: 0.4936708860759494\n",
      "Epoch: 49 Train Loss: tensor(0.0003) Train Accuracy: 1.0 Test Accuracy: 0.4936708860759494\n"
     ]
    }
   ],
   "source": [
    "#Model training and saving best model\n",
    "\n",
    "best_accuracy=0.0\n",
    "\n",
    "for epoch in range(num_epochs):\n",
    "    \n",
    "    #Evaluation and training on training dataset\n",
    "    model.train()\n",
    "    train_accuracy=0.0\n",
    "    train_loss=0.0\n",
    "    \n",
    "    for i, (images,labels) in enumerate(train_loader):\n",
    "        if torch.cuda.is_available():\n",
    "            images=Variable(images.cuda())\n",
    "            labels=Variable(labels.cuda())\n",
    "            \n",
    "        optimizer.zero_grad()\n",
    "        \n",
    "        outputs=model(images)\n",
    "        loss=loss_function(outputs,labels)\n",
    "        loss.backward()\n",
    "        optimizer.step()\n",
    "        \n",
    "        \n",
    "        train_loss+= loss.cpu().data*images.size(0)\n",
    "        _,prediction=torch.max(outputs.data,1)\n",
    "        \n",
    "        train_accuracy+=int(torch.sum(prediction==labels.data))\n",
    "        \n",
    "    train_accuracy=train_accuracy/train_count\n",
    "    train_loss=train_loss/train_count\n",
    "    \n",
    "    \n",
    "    # Evaluation on testing dataset\n",
    "    model.eval()\n",
    "    \n",
    "    test_accuracy=0.0\n",
    "    for i, (images,labels) in enumerate(test_loader):\n",
    "        if torch.cuda.is_available():\n",
    "            images=Variable(images.cuda())\n",
    "            labels=Variable(labels.cuda())\n",
    "            \n",
    "        outputs=model(images)\n",
    "        _,prediction=torch.max(outputs.data,1)\n",
    "        test_accuracy+=int(torch.sum(prediction==labels.data))\n",
    "    \n",
    "    test_accuracy=test_accuracy/test_count\n",
    "    \n",
    "    \n",
    "    print('Epoch: '+str(epoch)+' Train Loss: '+str(train_loss)+' Train Accuracy: '+str(train_accuracy)+' Test Accuracy: '+str(test_accuracy))\n",
    "    \n",
    "    #Save the best model\n",
    "    if test_accuracy>best_accuracy:\n",
    "        torch.save(model.state_dict(),'best_checkpoint.model')\n",
    "        best_accuracy=test_accuracy\n",
    "    \n",
    "       "
   ]
  },
  {
   "cell_type": "code",
   "execution_count": null,
   "id": "9c504a2d",
   "metadata": {},
   "outputs": [],
   "source": []
  }
 ],
 "metadata": {
  "kernelspec": {
   "display_name": "Python 3 (ipykernel)",
   "language": "python",
   "name": "python3"
  },
  "language_info": {
   "codemirror_mode": {
    "name": "ipython",
    "version": 3
   },
   "file_extension": ".py",
   "mimetype": "text/x-python",
   "name": "python",
   "nbconvert_exporter": "python",
   "pygments_lexer": "ipython3",
   "version": "3.9.7"
  }
 },
 "nbformat": 4,
 "nbformat_minor": 5
}
