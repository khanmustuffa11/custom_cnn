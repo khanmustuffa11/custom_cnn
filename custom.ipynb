{
 "cells": [
  {
   "cell_type": "code",
   "execution_count": 127,
   "metadata": {},
   "outputs": [],
   "source": [
    "import torch\n",
    "import torchvision\n",
    "import torchvision.transforms as transforms\n",
    "from torch.utils.data import DataLoader\n",
    "import torchvision.models as models\n",
    "import torch.nn as nn\n",
    "import torch.optim as optim\n",
    "import os\n",
    "import numpy as np\n",
    "\n"
   ]
  },
  {
   "cell_type": "code",
   "execution_count": 128,
   "metadata": {},
   "outputs": [],
   "source": [
    "def set_device():\n",
    "    if torch.cuda.is_available():\n",
    "        dev  = \"cuda:0\"\n",
    "    else:\n",
    "        dev = \"CPU\"\n",
    "    return torch.device(dev)\n"
   ]
  },
  {
   "cell_type": "code",
   "execution_count": 129,
   "metadata": {},
   "outputs": [],
   "source": [
    "train_path ='retina_lesion_/train'\n",
    "test_path  = 'retina_lesion_/test'\n",
    "\n",
    "train_loader = DataLoader(train_path, batch_size = 32, shuffle=True)\n",
    "test_loader  =DataLoader(test_path, batch_size = 32, shuffle = False)"
   ]
  },
  {
   "cell_type": "code",
   "execution_count": 130,
   "metadata": {},
   "outputs": [],
   "source": [
    "def train_nn(model, train_loader, test_loader, criterion, optimizer, n_epochs):\n",
    "    device = set_device()\n",
    "\n",
    "    for epoch in range(n_epochs):\n",
    "        print(\"Epochs number % (epoch  + 1)\")\n",
    "        model.train()\n",
    "        running_loss = 0.0\n",
    "        running_correct = 0.0\n",
    "        total =0\n",
    "        for data in train_loader:\n",
    "            images, labels = data, data\n",
    "            images = images.to(device)\n",
    "            labels = np.asarray(labels)\n",
    "            \n",
    "            #labels = labels.to(device)\n",
    "            total += labels.size()\n",
    "\n",
    "            optimizer.zero_grad()\n",
    "            outputs = model(images)\n",
    "\n",
    "            _,predicted = torch.max(outputs.data, 1)\n",
    "            loss = criterion(outputs,labels)\n",
    "            loss.backward()\n",
    "            optimizer.step()\n",
    "\n",
    "            running_loss +=loss.item()\n",
    "            running_correct += (labels ==predicted).sum().item()\n",
    "        epoch_loss = running_loss/len(train_loader)\n",
    "        epoch_acc = 100.00 * running_correct/total\n",
    "\n",
    "        print(\"    -Training datset. Got %d out of %d images correctly (%.3f%%). Epoch Loss: %.3f(running_correct, total, epoch_acc,epoch_loss)\")\n",
    "        evaluate_model_on_test_set(model, test_loader)\n",
    "\n",
    "        print(\"Finished\")\n",
    "        return model"
   ]
  },
  {
   "cell_type": "code",
   "execution_count": 131,
   "metadata": {},
   "outputs": [],
   "source": [
    "def evaluate_model_on_test_set(model, test_loader):\n",
    "    model.eval()\n",
    "    predicted_correctly_on_epoch = 0\n",
    "    total =0\n",
    "    running_correct = 0.0\n",
    "    device = set_device()\n",
    "    with torch.no_grad():\n",
    "        for data in test_loader:\n",
    "            images, labels = data\n",
    "            images = images.to(device)\n",
    "            labels = labels.to(device)\n",
    "            total += labels.size()\n",
    "\n",
    "            outputs = model(images)\n",
    "\n",
    "            _,predicted = torch.max(outputs.data, 1)\n",
    "            predicted_correctly_on_epoch += (predicted ==labels).sum().item()\n",
    "    \n",
    "    epoch_acc = 100.00 * running_correct/total\n",
    "\n",
    "    print(\"    -Training datset. Got %d out of %d images correctly (%.3f%%). Epoch Loss: %.3f (running_correct, total, epoch_acc,epoch_loss)\")\n",
    "\n",
    "            "
   ]
  },
  {
   "cell_type": "code",
   "execution_count": 132,
   "metadata": {},
   "outputs": [],
   "source": [
    "\n",
    "model = models.inception_v3(pretrained = True)\n",
    "num_ftrs = model.fc.in_features\n",
    "number_of_classes =5\n",
    "model.fc  = nn.Linear(num_ftrs, number_of_classes)\n",
    "device =set_device()\n",
    "model = model.to(device)\n",
    "loss_fn =  nn.CrossEntropyLoss()\n",
    "\n",
    "optimizer = optim.SGD(model.parameters(),lr = 0.01, momentum = 0.9, weight_decay = 0.03)"
   ]
  },
  {
   "cell_type": "code",
   "execution_count": 134,
   "metadata": {},
   "outputs": [],
   "source": [
    "train_nn(model, train_loader, test_loader, loss_fn, optimizer, 10)"
   ]
  },
  {
   "cell_type": "code",
   "execution_count": null,
   "metadata": {},
   "outputs": [],
   "source": []
  }
 ],
 "metadata": {
  "interpreter": {
   "hash": "f574f00b3bf348ce9bef498d2996daa10d20414b14a799b081123251a06162fc"
  },
  "kernelspec": {
   "display_name": "Python 3.9.7 ('fastai')",
   "language": "python",
   "name": "python3"
  },
  "language_info": {
   "codemirror_mode": {
    "name": "ipython",
    "version": 3
   },
   "file_extension": ".py",
   "mimetype": "text/x-python",
   "name": "python",
   "nbconvert_exporter": "python",
   "pygments_lexer": "ipython3",
   "version": "3.9.7"
  },
  "orig_nbformat": 4
 },
 "nbformat": 4,
 "nbformat_minor": 2
}
